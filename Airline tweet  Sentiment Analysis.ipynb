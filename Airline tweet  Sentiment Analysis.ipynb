{
  "nbformat": 4,
  "nbformat_minor": 0,
  "metadata": {
    "colab": {
      "provenance": []
    },
    "kernelspec": {
      "name": "python3",
      "display_name": "Python 3"
    },
    "language_info": {
      "name": "python"
    }
  },
  "cells": [
    {
      "cell_type": "code",
      "execution_count": null,
      "metadata": {
        "id": "wZ897w8dIoEy",
        "colab": {
          "base_uri": "https://localhost:8080/"
        },
        "outputId": "8bf736a5-3ce3-45e4-9704-bb0bc3febe86"
      },
      "outputs": [
        {
          "output_type": "stream",
          "name": "stdout",
          "text": [
            "[nltk_data] Downloading package stopwords to /root/nltk_data...\n",
            "[nltk_data]   Unzipping corpora/stopwords.zip.\n",
            "[nltk_data] Downloading package punkt to /root/nltk_data...\n",
            "[nltk_data]   Unzipping tokenizers/punkt.zip.\n"
          ]
        },
        {
          "output_type": "execute_result",
          "data": {
            "text/plain": [
              "True"
            ]
          },
          "metadata": {},
          "execution_count": 1
        }
      ],
      "source": [
        "import nltk\n",
        "import pandas as pd\n",
        "import numpy as np\n",
        "from nltk.corpus import stopwords\n",
        "\n",
        "nltk.download('stopwords')\n",
        "nltk.download('punkt')"
      ]
    },
    {
      "cell_type": "code",
      "source": [
        "!wget --no-check-certificate --content-disposition https://raw.githubusercontent.com/satyajeetkrjha/kaggle-Twitter-US-Airline-Sentiment-/master/Tweets.csv"
      ],
      "metadata": {
        "id": "UdWS4SI6VEFT",
        "colab": {
          "base_uri": "https://localhost:8080/"
        },
        "outputId": "e90a1da7-5cf7-428a-d437-70178def9641"
      },
      "execution_count": null,
      "outputs": [
        {
          "output_type": "stream",
          "name": "stdout",
          "text": [
            "--2022-04-09 04:02:25--  https://raw.githubusercontent.com/satyajeetkrjha/kaggle-Twitter-US-Airline-Sentiment-/master/Tweets.csv\n",
            "Resolving raw.githubusercontent.com (raw.githubusercontent.com)... 185.199.108.133, 185.199.110.133, 185.199.111.133, ...\n",
            "Connecting to raw.githubusercontent.com (raw.githubusercontent.com)|185.199.108.133|:443... connected.\n",
            "HTTP request sent, awaiting response... 200 OK\n",
            "Length: 3421431 (3.3M) [text/plain]\n",
            "Saving to: ‘Tweets.csv’\n",
            "\n",
            "\rTweets.csv            0%[                    ]       0  --.-KB/s               \rTweets.csv          100%[===================>]   3.26M  --.-KB/s    in 0.01s   \n",
            "\n",
            "2022-04-09 04:02:25 (252 MB/s) - ‘Tweets.csv’ saved [3421431/3421431]\n",
            "\n"
          ]
        }
      ]
    },
    {
      "cell_type": "code",
      "source": [
        "df = pd.read_csv('Tweets.csv',index_col=None)\n",
        "df = df[['airline_sentiment','text']]\n",
        "df.rename({'airline_sentiment': 'label'}, axis=1, inplace=True)\n",
        "df.groupby('label').count()"
      ],
      "metadata": {
        "id": "JYsKfBQlVOhP",
        "colab": {
          "base_uri": "https://localhost:8080/",
          "height": 175
        },
        "outputId": "be55a90b-8253-47ac-8c50-11e7af25d682"
      },
      "execution_count": null,
      "outputs": [
        {
          "output_type": "execute_result",
          "data": {
            "text/plain": [
              "          text\n",
              "label         \n",
              "negative  9178\n",
              "neutral   3099\n",
              "positive  2363"
            ],
            "text/html": [
              "\n",
              "  <div id=\"df-317d9205-a2ad-41d6-a25a-4c7f7cf9074a\">\n",
              "    <div class=\"colab-df-container\">\n",
              "      <div>\n",
              "<style scoped>\n",
              "    .dataframe tbody tr th:only-of-type {\n",
              "        vertical-align: middle;\n",
              "    }\n",
              "\n",
              "    .dataframe tbody tr th {\n",
              "        vertical-align: top;\n",
              "    }\n",
              "\n",
              "    .dataframe thead th {\n",
              "        text-align: right;\n",
              "    }\n",
              "</style>\n",
              "<table border=\"1\" class=\"dataframe\">\n",
              "  <thead>\n",
              "    <tr style=\"text-align: right;\">\n",
              "      <th></th>\n",
              "      <th>text</th>\n",
              "    </tr>\n",
              "    <tr>\n",
              "      <th>label</th>\n",
              "      <th></th>\n",
              "    </tr>\n",
              "  </thead>\n",
              "  <tbody>\n",
              "    <tr>\n",
              "      <th>negative</th>\n",
              "      <td>9178</td>\n",
              "    </tr>\n",
              "    <tr>\n",
              "      <th>neutral</th>\n",
              "      <td>3099</td>\n",
              "    </tr>\n",
              "    <tr>\n",
              "      <th>positive</th>\n",
              "      <td>2363</td>\n",
              "    </tr>\n",
              "  </tbody>\n",
              "</table>\n",
              "</div>\n",
              "      <button class=\"colab-df-convert\" onclick=\"convertToInteractive('df-317d9205-a2ad-41d6-a25a-4c7f7cf9074a')\"\n",
              "              title=\"Convert this dataframe to an interactive table.\"\n",
              "              style=\"display:none;\">\n",
              "        \n",
              "  <svg xmlns=\"http://www.w3.org/2000/svg\" height=\"24px\"viewBox=\"0 0 24 24\"\n",
              "       width=\"24px\">\n",
              "    <path d=\"M0 0h24v24H0V0z\" fill=\"none\"/>\n",
              "    <path d=\"M18.56 5.44l.94 2.06.94-2.06 2.06-.94-2.06-.94-.94-2.06-.94 2.06-2.06.94zm-11 1L8.5 8.5l.94-2.06 2.06-.94-2.06-.94L8.5 2.5l-.94 2.06-2.06.94zm10 10l.94 2.06.94-2.06 2.06-.94-2.06-.94-.94-2.06-.94 2.06-2.06.94z\"/><path d=\"M17.41 7.96l-1.37-1.37c-.4-.4-.92-.59-1.43-.59-.52 0-1.04.2-1.43.59L10.3 9.45l-7.72 7.72c-.78.78-.78 2.05 0 2.83L4 21.41c.39.39.9.59 1.41.59.51 0 1.02-.2 1.41-.59l7.78-7.78 2.81-2.81c.8-.78.8-2.07 0-2.86zM5.41 20L4 18.59l7.72-7.72 1.47 1.35L5.41 20z\"/>\n",
              "  </svg>\n",
              "      </button>\n",
              "      \n",
              "  <style>\n",
              "    .colab-df-container {\n",
              "      display:flex;\n",
              "      flex-wrap:wrap;\n",
              "      gap: 12px;\n",
              "    }\n",
              "\n",
              "    .colab-df-convert {\n",
              "      background-color: #E8F0FE;\n",
              "      border: none;\n",
              "      border-radius: 50%;\n",
              "      cursor: pointer;\n",
              "      display: none;\n",
              "      fill: #1967D2;\n",
              "      height: 32px;\n",
              "      padding: 0 0 0 0;\n",
              "      width: 32px;\n",
              "    }\n",
              "\n",
              "    .colab-df-convert:hover {\n",
              "      background-color: #E2EBFA;\n",
              "      box-shadow: 0px 1px 2px rgba(60, 64, 67, 0.3), 0px 1px 3px 1px rgba(60, 64, 67, 0.15);\n",
              "      fill: #174EA6;\n",
              "    }\n",
              "\n",
              "    [theme=dark] .colab-df-convert {\n",
              "      background-color: #3B4455;\n",
              "      fill: #D2E3FC;\n",
              "    }\n",
              "\n",
              "    [theme=dark] .colab-df-convert:hover {\n",
              "      background-color: #434B5C;\n",
              "      box-shadow: 0px 1px 3px 1px rgba(0, 0, 0, 0.15);\n",
              "      filter: drop-shadow(0px 1px 2px rgba(0, 0, 0, 0.3));\n",
              "      fill: #FFFFFF;\n",
              "    }\n",
              "  </style>\n",
              "\n",
              "      <script>\n",
              "        const buttonEl =\n",
              "          document.querySelector('#df-317d9205-a2ad-41d6-a25a-4c7f7cf9074a button.colab-df-convert');\n",
              "        buttonEl.style.display =\n",
              "          google.colab.kernel.accessAllowed ? 'block' : 'none';\n",
              "\n",
              "        async function convertToInteractive(key) {\n",
              "          const element = document.querySelector('#df-317d9205-a2ad-41d6-a25a-4c7f7cf9074a');\n",
              "          const dataTable =\n",
              "            await google.colab.kernel.invokeFunction('convertToInteractive',\n",
              "                                                     [key], {});\n",
              "          if (!dataTable) return;\n",
              "\n",
              "          const docLinkHtml = 'Like what you see? Visit the ' +\n",
              "            '<a target=\"_blank\" href=https://colab.research.google.com/notebooks/data_table.ipynb>data table notebook</a>'\n",
              "            + ' to learn more about interactive tables.';\n",
              "          element.innerHTML = '';\n",
              "          dataTable['output_type'] = 'display_data';\n",
              "          await google.colab.output.renderOutput(dataTable, element);\n",
              "          const docLink = document.createElement('div');\n",
              "          docLink.innerHTML = docLinkHtml;\n",
              "          element.appendChild(docLink);\n",
              "        }\n",
              "      </script>\n",
              "    </div>\n",
              "  </div>\n",
              "  "
            ]
          },
          "metadata": {},
          "execution_count": 3
        }
      ]
    },
    {
      "cell_type": "code",
      "source": [
        "df.label = df.label.replace({'positive': 0, 'neutral': 0, 'negative': 1})"
      ],
      "metadata": {
        "id": "jMRz_s1IWTfo"
      },
      "execution_count": null,
      "outputs": []
    },
    {
      "cell_type": "code",
      "source": [
        "df.sample(10)"
      ],
      "metadata": {
        "id": "PILH9DMiNSwX",
        "colab": {
          "base_uri": "https://localhost:8080/",
          "height": 363
        },
        "outputId": "efef6b49-e952-4338-9ba6-377d3ab0cd16"
      },
      "execution_count": null,
      "outputs": [
        {
          "output_type": "execute_result",
          "data": {
            "text/plain": [
              "       label                                               text\n",
              "3258       1  @united make sure you make Cancelled Flighted ...\n",
              "12562      1  @AmericanAir no, you should do something about...\n",
              "11117      0  @USAirways thanks to the gate agent in State C...\n",
              "1741       1  @united pls stop sending texts every 15mins sa...\n",
              "3282       0  @united Thank you for the Delta transfer. Will...\n",
              "1337       1  @united Maybe be hiring your own ground staff ...\n",
              "14130      1  @AmericanAir Trying to rebook a flight with yo...\n",
              "9062       1  @USAirways I've been on hold to rebook a Cance...\n",
              "14304      1  @AmericanAir @NY_NJairports AA1224: 45 mins fo...\n",
              "11748      1  @USAirways still can't get a real person on th..."
            ],
            "text/html": [
              "\n",
              "  <div id=\"df-d1e33bbb-fb24-46b8-855c-222121eb2f27\">\n",
              "    <div class=\"colab-df-container\">\n",
              "      <div>\n",
              "<style scoped>\n",
              "    .dataframe tbody tr th:only-of-type {\n",
              "        vertical-align: middle;\n",
              "    }\n",
              "\n",
              "    .dataframe tbody tr th {\n",
              "        vertical-align: top;\n",
              "    }\n",
              "\n",
              "    .dataframe thead th {\n",
              "        text-align: right;\n",
              "    }\n",
              "</style>\n",
              "<table border=\"1\" class=\"dataframe\">\n",
              "  <thead>\n",
              "    <tr style=\"text-align: right;\">\n",
              "      <th></th>\n",
              "      <th>label</th>\n",
              "      <th>text</th>\n",
              "    </tr>\n",
              "  </thead>\n",
              "  <tbody>\n",
              "    <tr>\n",
              "      <th>3258</th>\n",
              "      <td>1</td>\n",
              "      <td>@united make sure you make Cancelled Flighted ...</td>\n",
              "    </tr>\n",
              "    <tr>\n",
              "      <th>12562</th>\n",
              "      <td>1</td>\n",
              "      <td>@AmericanAir no, you should do something about...</td>\n",
              "    </tr>\n",
              "    <tr>\n",
              "      <th>11117</th>\n",
              "      <td>0</td>\n",
              "      <td>@USAirways thanks to the gate agent in State C...</td>\n",
              "    </tr>\n",
              "    <tr>\n",
              "      <th>1741</th>\n",
              "      <td>1</td>\n",
              "      <td>@united pls stop sending texts every 15mins sa...</td>\n",
              "    </tr>\n",
              "    <tr>\n",
              "      <th>3282</th>\n",
              "      <td>0</td>\n",
              "      <td>@united Thank you for the Delta transfer. Will...</td>\n",
              "    </tr>\n",
              "    <tr>\n",
              "      <th>1337</th>\n",
              "      <td>1</td>\n",
              "      <td>@united Maybe be hiring your own ground staff ...</td>\n",
              "    </tr>\n",
              "    <tr>\n",
              "      <th>14130</th>\n",
              "      <td>1</td>\n",
              "      <td>@AmericanAir Trying to rebook a flight with yo...</td>\n",
              "    </tr>\n",
              "    <tr>\n",
              "      <th>9062</th>\n",
              "      <td>1</td>\n",
              "      <td>@USAirways I've been on hold to rebook a Cance...</td>\n",
              "    </tr>\n",
              "    <tr>\n",
              "      <th>14304</th>\n",
              "      <td>1</td>\n",
              "      <td>@AmericanAir @NY_NJairports AA1224: 45 mins fo...</td>\n",
              "    </tr>\n",
              "    <tr>\n",
              "      <th>11748</th>\n",
              "      <td>1</td>\n",
              "      <td>@USAirways still can't get a real person on th...</td>\n",
              "    </tr>\n",
              "  </tbody>\n",
              "</table>\n",
              "</div>\n",
              "      <button class=\"colab-df-convert\" onclick=\"convertToInteractive('df-d1e33bbb-fb24-46b8-855c-222121eb2f27')\"\n",
              "              title=\"Convert this dataframe to an interactive table.\"\n",
              "              style=\"display:none;\">\n",
              "        \n",
              "  <svg xmlns=\"http://www.w3.org/2000/svg\" height=\"24px\"viewBox=\"0 0 24 24\"\n",
              "       width=\"24px\">\n",
              "    <path d=\"M0 0h24v24H0V0z\" fill=\"none\"/>\n",
              "    <path d=\"M18.56 5.44l.94 2.06.94-2.06 2.06-.94-2.06-.94-.94-2.06-.94 2.06-2.06.94zm-11 1L8.5 8.5l.94-2.06 2.06-.94-2.06-.94L8.5 2.5l-.94 2.06-2.06.94zm10 10l.94 2.06.94-2.06 2.06-.94-2.06-.94-.94-2.06-.94 2.06-2.06.94z\"/><path d=\"M17.41 7.96l-1.37-1.37c-.4-.4-.92-.59-1.43-.59-.52 0-1.04.2-1.43.59L10.3 9.45l-7.72 7.72c-.78.78-.78 2.05 0 2.83L4 21.41c.39.39.9.59 1.41.59.51 0 1.02-.2 1.41-.59l7.78-7.78 2.81-2.81c.8-.78.8-2.07 0-2.86zM5.41 20L4 18.59l7.72-7.72 1.47 1.35L5.41 20z\"/>\n",
              "  </svg>\n",
              "      </button>\n",
              "      \n",
              "  <style>\n",
              "    .colab-df-container {\n",
              "      display:flex;\n",
              "      flex-wrap:wrap;\n",
              "      gap: 12px;\n",
              "    }\n",
              "\n",
              "    .colab-df-convert {\n",
              "      background-color: #E8F0FE;\n",
              "      border: none;\n",
              "      border-radius: 50%;\n",
              "      cursor: pointer;\n",
              "      display: none;\n",
              "      fill: #1967D2;\n",
              "      height: 32px;\n",
              "      padding: 0 0 0 0;\n",
              "      width: 32px;\n",
              "    }\n",
              "\n",
              "    .colab-df-convert:hover {\n",
              "      background-color: #E2EBFA;\n",
              "      box-shadow: 0px 1px 2px rgba(60, 64, 67, 0.3), 0px 1px 3px 1px rgba(60, 64, 67, 0.15);\n",
              "      fill: #174EA6;\n",
              "    }\n",
              "\n",
              "    [theme=dark] .colab-df-convert {\n",
              "      background-color: #3B4455;\n",
              "      fill: #D2E3FC;\n",
              "    }\n",
              "\n",
              "    [theme=dark] .colab-df-convert:hover {\n",
              "      background-color: #434B5C;\n",
              "      box-shadow: 0px 1px 3px 1px rgba(0, 0, 0, 0.15);\n",
              "      filter: drop-shadow(0px 1px 2px rgba(0, 0, 0, 0.3));\n",
              "      fill: #FFFFFF;\n",
              "    }\n",
              "  </style>\n",
              "\n",
              "      <script>\n",
              "        const buttonEl =\n",
              "          document.querySelector('#df-d1e33bbb-fb24-46b8-855c-222121eb2f27 button.colab-df-convert');\n",
              "        buttonEl.style.display =\n",
              "          google.colab.kernel.accessAllowed ? 'block' : 'none';\n",
              "\n",
              "        async function convertToInteractive(key) {\n",
              "          const element = document.querySelector('#df-d1e33bbb-fb24-46b8-855c-222121eb2f27');\n",
              "          const dataTable =\n",
              "            await google.colab.kernel.invokeFunction('convertToInteractive',\n",
              "                                                     [key], {});\n",
              "          if (!dataTable) return;\n",
              "\n",
              "          const docLinkHtml = 'Like what you see? Visit the ' +\n",
              "            '<a target=\"_blank\" href=https://colab.research.google.com/notebooks/data_table.ipynb>data table notebook</a>'\n",
              "            + ' to learn more about interactive tables.';\n",
              "          element.innerHTML = '';\n",
              "          dataTable['output_type'] = 'display_data';\n",
              "          await google.colab.output.renderOutput(dataTable, element);\n",
              "          const docLink = document.createElement('div');\n",
              "          docLink.innerHTML = docLinkHtml;\n",
              "          element.appendChild(docLink);\n",
              "        }\n",
              "      </script>\n",
              "    </div>\n",
              "  </div>\n",
              "  "
            ]
          },
          "metadata": {},
          "execution_count": 5
        }
      ]
    },
    {
      "cell_type": "code",
      "source": [
        "from sklearn.model_selection import train_test_split\n",
        "\n",
        "train, test = train_test_split(df, test_size=0.3)\n",
        "\n",
        "y_train, y_test = train.label, test.label"
      ],
      "metadata": {
        "id": "A2YpS473NUVA"
      },
      "execution_count": null,
      "outputs": []
    },
    {
      "cell_type": "code",
      "source": [
        "from sklearn.feature_extraction.text import CountVectorizer\n",
        "from nltk.tokenize import TweetTokenizer\n",
        "from nltk.stem.porter import PorterStemmer\n",
        "import string\n",
        "import re\n",
        "\n",
        "tokenizer = TweetTokenizer()\n",
        "\n",
        "def tokenizer_fn(text):\n",
        "  # remove numbers\n",
        "  text_nonum = re.sub(r'\\d+', '', text)\n",
        "  # apply Twitter Tokenizer\n",
        "  tokens = tokenizer.tokenize(text_nonum)\n",
        "  #remove punctuation\n",
        "  tokens = list(filter(lambda token: token not in string.punctuation, tokens))\n",
        "\n",
        "  return tokens\n",
        "\n",
        "vectorizer = CountVectorizer(tokenizer=tokenizer_fn, stop_words=stopwords.words('english'), lowercase=True, max_df=0.5, min_df=3)\n",
        "\n",
        "X_train = vectorizer.fit_transform(train.text)\n",
        "X_test = vectorizer.transform(test.text)\n",
        "y_train, y_test = train.label, test.label"
      ],
      "metadata": {
        "id": "hMUTf1HbZhZb"
      },
      "execution_count": null,
      "outputs": []
    },
    {
      "cell_type": "code",
      "source": [
        "word_freq = pd.Series(dict(zip(vectorizer.get_feature_names(), X_train.toarray().sum(axis=0))))\n",
        "word_freq.sort_values(ascending=False)[:20]"
      ],
      "metadata": {
        "id": "3iPDNOH3bP1E",
        "colab": {
          "base_uri": "https://localhost:8080/"
        },
        "outputId": "ce0d816d-949b-4312-9800-cd0a65aa5e0b"
      },
      "execution_count": null,
      "outputs": [
        {
          "output_type": "stream",
          "name": "stderr",
          "text": [
            "/usr/local/lib/python3.7/dist-packages/sklearn/utils/deprecation.py:87: FutureWarning: Function get_feature_names is deprecated; get_feature_names is deprecated in 1.0 and will be removed in 1.2. Please use get_feature_names_out instead.\n",
            "  warnings.warn(msg, category=FutureWarning)\n"
          ]
        },
        {
          "output_type": "execute_result",
          "data": {
            "text/plain": [
              "@united          2771\n",
              "flight           2765\n",
              "@usairways       2115\n",
              "@americanair     2030\n",
              "@southwestair    1711\n",
              "@jetblue         1558\n",
              "get               963\n",
              "thanks            741\n",
              "cancelled         715\n",
              "...               689\n",
              "service           685\n",
              "help              594\n",
              "time              550\n",
              "customer          520\n",
              "hours             497\n",
              "i'm               496\n",
              "us                495\n",
              "hold              448\n",
              "flights           443\n",
              "still             433\n",
              "dtype: int64"
            ]
          },
          "metadata": {},
          "execution_count": 8
        }
      ]
    },
    {
      "cell_type": "markdown",
      "source": [
        "**1) train logistic regression with L1 penalty จาก feature ที่ทำไว้ โดยที่จะต้อง tune regularization parameter ของ L1 penalty ด้วย cross validation พอได้ model ที่เทรนแล้วก็ทำ error analysis ดู precision/recall/AUC บน test data ที่เราเตรียมไว้**"
      ],
      "metadata": {
        "id": "tnvOx9Izb7xd"
      }
    },
    {
      "cell_type": "code",
      "source": [
        "from sklearn.linear_model import LogisticRegression\n",
        "\n",
        "model = LogisticRegression(C=1, penalty='l1', solver='liblinear',random_state=0)"
      ],
      "metadata": {
        "id": "L9VidAK9b98L"
      },
      "execution_count": null,
      "outputs": []
    },
    {
      "cell_type": "code",
      "source": [
        "from sklearn import svm, datasets\n",
        "from sklearn.model_selection import GridSearchCV\n",
        "from sklearn.metrics import roc_auc_score\n",
        "params = [{\"C\": [0.5,2,10,50]}]\n",
        "clf = GridSearchCV(model, params , cv= 3)\n",
        "clf.fit(X_train, y_train)\n"
      ],
      "metadata": {
        "colab": {
          "base_uri": "https://localhost:8080/"
        },
        "id": "1yS31tzrkcRq",
        "outputId": "39382d30-a837-425f-c25b-860a0b7417e7"
      },
      "execution_count": null,
      "outputs": [
        {
          "output_type": "execute_result",
          "data": {
            "text/plain": [
              "GridSearchCV(cv=3,\n",
              "             estimator=LogisticRegression(C=1, penalty='l1', random_state=0,\n",
              "                                          solver='liblinear'),\n",
              "             param_grid=[{'C': [0.5, 2, 10, 50]}])"
            ]
          },
          "metadata": {},
          "execution_count": 35
        }
      ]
    },
    {
      "cell_type": "code",
      "source": [
        "from sklearn.metrics import classification_report\n",
        "\n",
        "y_pred = clf.predict(X_test)\n",
        "print(classification_report(y_test, y_pred))\n",
        "print('AUC Score: {}'.format(roc_auc_score(y_test, clf.decision_function(X_test))))"
      ],
      "metadata": {
        "colab": {
          "base_uri": "https://localhost:8080/"
        },
        "id": "sUudKqItmNVV",
        "outputId": "aa1589c8-c533-4b1d-ed93-83328e0db216"
      },
      "execution_count": null,
      "outputs": [
        {
          "output_type": "stream",
          "name": "stdout",
          "text": [
            "              precision    recall  f1-score   support\n",
            "\n",
            "           0       0.76      0.76      0.76      1645\n",
            "           1       0.85      0.86      0.85      2747\n",
            "\n",
            "    accuracy                           0.82      4392\n",
            "   macro avg       0.81      0.81      0.81      4392\n",
            "weighted avg       0.82      0.82      0.82      4392\n",
            "\n",
            "AUC Score: 0.8914091415559169\n"
          ]
        }
      ]
    },
    {
      "cell_type": "markdown",
      "source": [
        "**2) ลอง train random forest model และ tune hyper-parameters แล้วดูว่าสามารถ outperform logistic regression ได้มั้ย**"
      ],
      "metadata": {
        "id": "jI2vAUk4xEWc"
      }
    },
    {
      "cell_type": "code",
      "source": [
        "from sklearn.ensemble import RandomForestClassifier\n",
        "\n",
        "rf = RandomForestClassifier()\n",
        "\n",
        "param_grid = { 'max_features': ['sqrt'],'max_depth': [20,30,40, 100, 110],'n_estimators': [150, 200, 250],}\n",
        "clf = GridSearchCV(estimator = rf, param_grid = param_grid, \n",
        "                          cv = 3, n_jobs = -1, verbose = 2)\n",
        "clf.fit(X_train,y_train)"
      ],
      "metadata": {
        "colab": {
          "base_uri": "https://localhost:8080/"
        },
        "id": "dWLtOdPZmkGU",
        "outputId": "f1d91649-0fe1-4ae1-bdfe-cb3e65f7909e"
      },
      "execution_count": null,
      "outputs": [
        {
          "output_type": "stream",
          "name": "stdout",
          "text": [
            "Fitting 3 folds for each of 15 candidates, totalling 45 fits\n"
          ]
        },
        {
          "output_type": "execute_result",
          "data": {
            "text/plain": [
              "GridSearchCV(cv=3, estimator=RandomForestClassifier(), n_jobs=-1,\n",
              "             param_grid={'max_depth': [20, 30, 40, 100, 110],\n",
              "                         'max_features': ['sqrt'],\n",
              "                         'n_estimators': [150, 200, 250]},\n",
              "             verbose=2)"
            ]
          },
          "metadata": {},
          "execution_count": 46
        }
      ]
    },
    {
      "cell_type": "code",
      "source": [
        "from sklearn.metrics import classification_report\n",
        "\n",
        "y_pred = clf.predict(X_test)\n",
        "print(classification_report(y_test, y_pred))\n",
        "print('AUC Score: {}'.format(roc_auc_score(y_test, clf.predict_proba(X_test)[:,1])))"
      ],
      "metadata": {
        "colab": {
          "base_uri": "https://localhost:8080/"
        },
        "id": "2TK3zV7AwfJk",
        "outputId": "0a7f18bb-7cb2-464b-e5d7-469ae334c2f3"
      },
      "execution_count": null,
      "outputs": [
        {
          "output_type": "stream",
          "name": "stdout",
          "text": [
            "              precision    recall  f1-score   support\n",
            "\n",
            "           0       0.77      0.66      0.71      1645\n",
            "           1       0.81      0.89      0.85      2747\n",
            "\n",
            "    accuracy                           0.80      4392\n",
            "   macro avg       0.79      0.77      0.78      4392\n",
            "weighted avg       0.80      0.80      0.80      4392\n",
            "\n",
            "AUC Score: 0.8682756430612893\n"
          ]
        }
      ]
    },
    {
      "cell_type": "markdown",
      "source": [
        "**3) ลองเปลี่ยน feature engineering จาก unigram เป็น bigram (CountVecterizer สามารถทำได้ ให้ลองดูจาก documentation ของ sklearn) จากนั้น train logistic regression model บน bigram features และเปลี่ยนเทียบ performance ของ model กับ model ที่ใช้แค่ unigram**"
      ],
      "metadata": {
        "id": "gC1GqorNw7dL"
      }
    },
    {
      "cell_type": "code",
      "source": [
        "from sklearn.feature_extraction.text import CountVectorizer\n",
        "from nltk.tokenize import TweetTokenizer\n",
        "from nltk.stem.porter import PorterStemmer\n",
        "import string\n",
        "import re\n",
        "\n",
        "tokenizer = TweetTokenizer()\n",
        "\n",
        "def tokenizer_fn(text):\n",
        "  # remove numbers\n",
        "  text_nonum = re.sub(r'\\d+', '', text)\n",
        "  # apply Twitter Tokenizer\n",
        "  tokens = tokenizer.tokenize(text_nonum)\n",
        "  #remove punctuation\n",
        "  tokens = list(filter(lambda token: token not in string.punctuation, tokens))\n",
        "\n",
        "  return tokens"
      ],
      "metadata": {
        "id": "atotTUXEw9dU"
      },
      "execution_count": null,
      "outputs": []
    },
    {
      "cell_type": "code",
      "source": [
        "vectorizer2 = CountVectorizer(tokenizer=tokenizer_fn, stop_words=stopwords.words('english'), lowercase=True, max_df=0.5, min_df=3, ngram_range=(2, 2))\n",
        "X2_train = vectorizer2.fit_transform(train.text)\n",
        "X2_test = vectorizer2.transform(test.text)\n",
        "y2_train, y2_test = train.label, test.label"
      ],
      "metadata": {
        "id": "aVhNa8BN12Uh"
      },
      "execution_count": null,
      "outputs": []
    },
    {
      "cell_type": "code",
      "source": [
        "from sklearn.linear_model import LogisticRegression\n",
        "\n",
        "model = LogisticRegression(C=1, penalty='l1', solver='liblinear',random_state=0)"
      ],
      "metadata": {
        "id": "ovzIQkVL3Utq"
      },
      "execution_count": null,
      "outputs": []
    },
    {
      "cell_type": "code",
      "source": [
        "from sklearn import svm, datasets\n",
        "from sklearn.model_selection import GridSearchCV\n",
        "from sklearn.metrics import roc_auc_score\n",
        "params = [{\"C\": [0.5,2,10,50]}]\n",
        "clf = GridSearchCV(model, params , cv= 3)\n",
        "clf.fit(X2_train, y2_train)"
      ],
      "metadata": {
        "colab": {
          "base_uri": "https://localhost:8080/"
        },
        "id": "MQA8-Qgx3X2J",
        "outputId": "c95fa2c7-badb-49a6-d16a-6291d03e9f58"
      },
      "execution_count": null,
      "outputs": [
        {
          "output_type": "execute_result",
          "data": {
            "text/plain": [
              "GridSearchCV(cv=3,\n",
              "             estimator=LogisticRegression(C=1, penalty='l1', random_state=0,\n",
              "                                          solver='liblinear'),\n",
              "             param_grid=[{'C': [0.5, 2, 10, 50]}])"
            ]
          },
          "metadata": {},
          "execution_count": 53
        }
      ]
    },
    {
      "cell_type": "code",
      "source": [
        "from sklearn.metrics import classification_report\n",
        "\n",
        "y2_pred = clf.predict(X2_test)\n",
        "print(classification_report(y2_test, y2_pred))\n",
        "print('AUC Score: {}'.format(roc_auc_score(y2_test, clf.decision_function(X2_test))))"
      ],
      "metadata": {
        "colab": {
          "base_uri": "https://localhost:8080/"
        },
        "id": "SXrdKdbc3fQN",
        "outputId": "1a46d1b5-4d02-489e-89ac-62736993ca17"
      },
      "execution_count": null,
      "outputs": [
        {
          "output_type": "stream",
          "name": "stdout",
          "text": [
            "              precision    recall  f1-score   support\n",
            "\n",
            "           0       0.71      0.42      0.53      1645\n",
            "           1       0.72      0.90      0.80      2747\n",
            "\n",
            "    accuracy                           0.72      4392\n",
            "   macro avg       0.71      0.66      0.66      4392\n",
            "weighted avg       0.71      0.72      0.70      4392\n",
            "\n",
            "AUC Score: 0.7851345983404941\n"
          ]
        }
      ]
    },
    {
      "cell_type": "code",
      "source": [
        "from sklearn.ensemble import RandomForestClassifier\n",
        "\n",
        "rf = RandomForestClassifier()\n",
        "\n",
        "param_grid = { 'max_features': ['sqrt'],'max_depth': [20,30,40, 100, 110],'n_estimators': [150, 200, 250],}\n",
        "clf = GridSearchCV(estimator = rf, param_grid = param_grid, \n",
        "                          cv = 3, n_jobs = -1, verbose = 2)\n",
        "clf.fit(X2_train,y2_train)"
      ],
      "metadata": {
        "colab": {
          "base_uri": "https://localhost:8080/"
        },
        "id": "F6VBjvRM3pJX",
        "outputId": "a3df5dc0-bedb-4b1d-e196-595f076191c8"
      },
      "execution_count": null,
      "outputs": [
        {
          "output_type": "stream",
          "name": "stdout",
          "text": [
            "Fitting 3 folds for each of 15 candidates, totalling 45 fits\n"
          ]
        },
        {
          "output_type": "execute_result",
          "data": {
            "text/plain": [
              "GridSearchCV(cv=3, estimator=RandomForestClassifier(), n_jobs=-1,\n",
              "             param_grid={'max_depth': [20, 30, 40, 100, 110],\n",
              "                         'max_features': ['sqrt'],\n",
              "                         'n_estimators': [150, 200, 250]},\n",
              "             verbose=2)"
            ]
          },
          "metadata": {},
          "execution_count": 55
        }
      ]
    },
    {
      "cell_type": "code",
      "source": [
        "from sklearn.metrics import classification_report\n",
        "\n",
        "y2_pred = clf.predict(X2_test)\n",
        "print(classification_report(y2_test, y2_pred))\n",
        "print('AUC Score: {}'.format(roc_auc_score(y2_test, clf.predict_proba(X2_test)[:,1])))"
      ],
      "metadata": {
        "colab": {
          "base_uri": "https://localhost:8080/"
        },
        "id": "LOnmyj3Y3vhk",
        "outputId": "e14278c1-fa20-471c-92a5-49a8fe31919c"
      },
      "execution_count": null,
      "outputs": [
        {
          "output_type": "stream",
          "name": "stdout",
          "text": [
            "              precision    recall  f1-score   support\n",
            "\n",
            "           0       0.79      0.24      0.37      1645\n",
            "           1       0.68      0.96      0.80      2747\n",
            "\n",
            "    accuracy                           0.69      4392\n",
            "   macro avg       0.73      0.60      0.58      4392\n",
            "weighted avg       0.72      0.69      0.64      4392\n",
            "\n",
            "AUC Score: 0.7426736876813944\n"
          ]
        }
      ]
    },
    {
      "cell_type": "markdown",
      "source": [
        "**สรุป: หลังเปลี่ยนเป็น bigram พบว่าประสิทธิภาพแย่ลงทั้ง Logistic regression และ RandomForest**"
      ],
      "metadata": {
        "id": "6utJYfYC31w-"
      }
    }
  ]
}